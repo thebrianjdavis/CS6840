{
 "cells": [
  {
   "cell_type": "markdown",
   "id": "b3e7773d",
   "metadata": {},
   "source": [
    "### CS 6840 Intro Machine Learning - Lab Assignment 2"
   ]
  },
  {
   "cell_type": "markdown",
   "id": "057fb92a",
   "metadata": {},
   "source": [
    "# <center>Building and Analyzing Classification Models</center>"
   ]
  },
  {
   "cell_type": "markdown",
   "id": "dcd0a0d2",
   "metadata": {},
   "source": [
    "### 1. Overview\n",
    "The learning objective of this lab assignment is for students to understand different classification models, including how to train logistic regression, k-nearest neighbors, support vector machine, and decision tree with the impacts of key parameters, how to evaluate their classification performances, and how to compare these results among different classification models."
   ]
  },
  {
   "cell_type": "markdown",
   "id": "633487e0",
   "metadata": {},
   "source": [
    "#### Lecture notes. \n",
    "Detailed coverage of these topics can be found in the following:\n",
    "<li>Logistic Regression</li>\n",
    "<li>Evaluation Metrics for Classification</li>\n",
    "<li>Cross Validation</li>\n",
    "<li>k-Nearest Neighbors</li>\n",
    "<li>Support Vector Machine</li>\n",
    "<li>Decision Tree</li>\n",
    "\n",
    "#### Code demonstrations.\n",
    "<li>Code 2023-09-20-W-Logistic Regression.ipynb</li>\n",
    "<li>Code 2023-09-25-M-Evaluation Metrics for Classification.ipynb</li>\n",
    "<li>Code 2023-09-27-W-Cross Validation.ipynb</li>\n",
    "<li>Code 2023-10-04-W-k-Nearest Neighbors.ipynb</li>\n",
    "<li>Code 2023-10-11-W-Soft Margin Classification SVM Model.ipynb</li>\n",
    "<li>Code 2023-10-16-M-Multi-class Classification and Kernel Trick of SVM.ipynb</li>\n",
    "<li>Code 2023-10-23-M-Decision Tree.ipynb</li>"
   ]
  },
  {
   "cell_type": "markdown",
   "id": "3d253216",
   "metadata": {},
   "source": [
    "### 2. Submission\n",
    "You need to submit a detailed lab report with code, running results, and answers to the questions. If you submit <font color='red'>a jupyter notebook (“Firstname-Lastname-6840-Lab2.ipynd”)</font>, please fill in this file directly and place the code, running results, and answers in order for each question. If you submit <font color='red'>a PDF report (“Firstname-Lastname-6840-Lab2.pdf”) with code file (“Firstname-Lastname-6840-Lab2.py”)</font>, please include the screenshots (code and running results) with answers for each question in the report.  "
   ]
  },
  {
   "cell_type": "markdown",
   "id": "7802ac85",
   "metadata": {},
   "source": [
    "### 3. Questions (50 points)"
   ]
  },
  {
   "cell_type": "markdown",
   "id": "20bffccc",
   "metadata": {},
   "source": [
    "For this lab assignment, you will be using the `housing dataset` to complete the following tasks and answer the questions. The housing dataset is the California Housing Prices dataset based on data from the 1990 California census. You will use these features to build classification models to predict the `ocean proximity` of a house. First, please place `housing.csv` and your notebook/python file in the same directory, and load and preprocess the data.   "
   ]
  },
  {
   "cell_type": "markdown",
   "id": "c4353ca6",
   "metadata": {},
   "source": [
    "#### Load and preprocess the data"
   ]
  },
  {
   "cell_type": "code",
   "execution_count": null,
   "id": "98706103",
   "metadata": {},
   "outputs": [],
   "source": [
    "import os\n",
    "import pandas as pd\n",
    "import numpy as np\n",
    "import matplotlib.pyplot as plt\n",
    "from sklearn.preprocessing import StandardScaler\n",
    "from sklearn.model_selection import train_test_split\n",
    "\n",
    "#Please place housing.csv and your notebook/python file in the same directory; otherwise, change DATA_PATH \n",
    "DATA_PATH = \"\"\n",
    "\n",
    "def load_housing_data(housing_path=DATA_PATH):\n",
    "    csv_path = os.path.join(housing_path, \"housing.csv\")\n",
    "    return pd.read_csv(csv_path)\n",
    "\n",
    "housing = load_housing_data()\n",
    "\n",
    "#Add three useful features\n",
    "housing[\"rooms_per_household\"] = housing[\"total_rooms\"]/housing[\"households\"]\n",
    "housing[\"bedrooms_per_room\"] = housing[\"total_bedrooms\"]/housing[\"total_rooms\"]\n",
    "housing[\"population_per_household\"]=housing[\"population\"]/housing[\"households\"]\n",
    "\n",
    "#Divide the data frame into features and labels\n",
    "housing_labels = housing[\"ocean_proximity\"].copy() # use ocean_proximity as classification label\n",
    "housing_features = housing.drop(\"ocean_proximity\", axis=1) # use colums other than ocean_proximity as features\n",
    "\n",
    "#Preprocessing the missing feature values\n",
    "median = housing_features[\"total_bedrooms\"].median()\n",
    "housing_features[\"total_bedrooms\"].fillna(median, inplace=True) \n",
    "median = housing_features[\"bedrooms_per_room\"].median()\n",
    "housing_features[\"bedrooms_per_room\"].fillna(median, inplace=True)\n",
    "\n",
    "#Scale the features\n",
    "std_scaler  = StandardScaler()\n",
    "housing_features_scaled = std_scaler.fit_transform(housing_features)\n",
    "\n",
    "#Final housing features X\n",
    "X = housing_features_scaled\n",
    "\n",
    "#Binary labels - 0: INLAND; 1: CLOSE TO OCEAN\n",
    "y_binary = (housing_labels != 1).astype(np.float64)\n",
    "#Multi-class labels - 0: <1H OCEAN; 1: INLAND; 2: NEAR OCEAN; 3: NEAR BAY\n",
    "y_multi = housing_labels.astype(np.float64)\n",
    "\n",
    "#Data splits for binary classification\n",
    "X_train_bi, X_test_bi, y_train_bi, y_test_bi = train_test_split(X, y_binary, test_size=0.20, random_state=42)\n",
    "\n",
    "#Data splits for multi-class classification\n",
    "X_train_mu, X_test_mu, y_train_mu, y_test_mu = train_test_split(X, y_multi, test_size=0.20, random_state=42)"
   ]
  },
  {
   "cell_type": "markdown",
   "id": "49e92572",
   "metadata": {},
   "source": [
    "<font color='red'><b>About the data used in this assignment: </b></font><br>\n",
    "**All the binary classification models are trained on `X_train_bi`, `y_train_bi`, and evaluated on `X_test_bi`, `y_test_bi`.**<br>\n",
    "**All the multi-class classification models are trained on `X_train_mu`, `y_train_mu`, and evaluated on `X_test_mu`, `y_test_mu`.**<br>\n",
    "**k-fold cross validation is performed directly on `X` and `y_multi`.**\n"
   ]
  },
  {
   "cell_type": "markdown",
   "id": "cf0ab7ee",
   "metadata": {},
   "source": [
    "#### Question 1 (4 points):  \n",
    "Please use features `X_train_bi` and binary labels `y_train_bi` to train a logistic regression binary classification model in function `answer_one( )`. After the model is trained, use `X_test_bi` and `y_test_bi` to evaluate the performance, including accuracy and F1 score.\n",
    "\n",
    "**Set `solver=\"newton-cg\"` and `random_state=42` in `LogisticRegression` to guarantee the convergence of train loss minimization** "
   ]
  },
  {
   "cell_type": "code",
   "execution_count": null,
   "id": "ac5a7ee2",
   "metadata": {},
   "outputs": [],
   "source": [
    "from sklearn.linear_model import LogisticRegression\n",
    "from sklearn.metrics import accuracy_score, f1_score\n",
    "\n",
    "def answer_one():\n",
    "    #Train a binary_reg\n",
    "\n",
    "    #Use binary_reg to make prediction y_pred_bi\n",
    "    \n",
    "    #Accuracy\n",
    "    binary_reg_accuracy = \n",
    "    \n",
    "    #F1 score\n",
    "    binary_reg_f1 = \n",
    "    \n",
    "    return binary_reg_accuracy, binary_reg_f1\n",
    "\n",
    "#Run your function in the cell to return the results\n",
    "accuracy_1, f1_1 = answer_one()"
   ]
  },
  {
   "cell_type": "markdown",
   "id": "f27d7e96",
   "metadata": {},
   "source": [
    "#### Answer 1:  \n",
    "Accuracy is: ( ) <br>\n",
    "F1 score is: ( )"
   ]
  },
  {
   "cell_type": "markdown",
   "id": "c28237ee",
   "metadata": {},
   "source": [
    "#### Question 2 (4 points):  \n",
    "Please use features `X_train_mu` and multi-class labels `y_train_mu` to train a softmax regression multi-class classification model in function `answer_two( )`. After the model is trained, use `X_test_mu` and `y_test_mu` to evaluate the performance, including accuracy, micro F1 score, and macro F1 score.\n",
    "\n",
    "**Set `multi_class=\"multinomial\"`, `solver=\"newton-cg\"` and `random_state=42` in `LogisticRegression` to guarantee the convergence of multi-class training**  "
   ]
  },
  {
   "cell_type": "code",
   "execution_count": null,
   "id": "d2312b55",
   "metadata": {},
   "outputs": [],
   "source": [
    "def answer_two():\n",
    "    #Train a multi_reg\n",
    "\n",
    "    #Use multi_reg to make prediction y_pred_mu\n",
    "    \n",
    "    #Accuracy\n",
    "    multi_reg_accuracy = \n",
    "    \n",
    "    #Micro F1 score\n",
    "    multi_reg_microf1 = \n",
    "    \n",
    "    #Macro F1 score\n",
    "    multi_reg_macrof1 = \n",
    "    \n",
    "    return multi_reg_accuracy, multi_reg_microf1, multi_reg_macrof1\n",
    "\n",
    "#Run your function in the cell to return the results\n",
    "accuracy_2, microf1_2, macrof1_2 = answer_two()"
   ]
  },
  {
   "cell_type": "markdown",
   "id": "4750a8ae",
   "metadata": {},
   "source": [
    "#### Answer 2:  \n",
    "Accuracy is: ( ) <br>\n",
    "Micro f1 score is: ( ) <br>\n",
    "Macro f1 score is: ( )"
   ]
  },
  {
   "cell_type": "markdown",
   "id": "6d9290d7",
   "metadata": {},
   "source": [
    "#### Question 3 (6 points):  \n",
    "Please use features `X_train_bi` and binary labels `y_train_bi` to train a k-nearest neighbors binary classification model in function `answer_three( )`. After the model is trained, use `X_test_bi` and `y_test_bi` to evaluate the performance, including accuracy and F1 score.\n",
    "\n",
    "**Set the option `n_neighbors=` in `KNeighborsClassifier` using `1`, `3`, `5`, `7`, and `9` respectively to find an optimal value `k`**   "
   ]
  },
  {
   "cell_type": "code",
   "execution_count": null,
   "id": "745c3f80",
   "metadata": {},
   "outputs": [],
   "source": [
    "from sklearn.neighbors import KNeighborsClassifier\n",
    "\n",
    "def answer_three():\n",
    "    #Train a binary_knn\n",
    "\n",
    "    #Use binary_knn to make prediction y_pred_bi\n",
    "    \n",
    "    #Accuracy\n",
    "    binary_knn_accuracy = \n",
    "    \n",
    "    #F1 score\n",
    "    binary_knn_f1 = \n",
    "    \n",
    "    return binary_knn_accuracy, binary_knn_f1\n",
    "\n",
    "#Run your function in the cell to return the results\n",
    "accuracy_3, f1_3 = answer_three()"
   ]
  },
  {
   "cell_type": "markdown",
   "id": "6191991b",
   "metadata": {},
   "source": [
    "#### Answer 3:  \n",
    "When k = 1, accuracy is: ( )<br>\n",
    "When k = 3, accuracy is: ( )<br>\n",
    "When k = 5, accuracy is: ( )<br>\n",
    "When k = 7, accuracy is: ( )<br>\n",
    "When k = 9, accuracy is: ( )<br>\n",
    "Optimal k (`n_neighbors`) is: ( ), accuracy is: ( ), F1 score is: ( )<br>"
   ]
  },
  {
   "cell_type": "markdown",
   "id": "04a769f5",
   "metadata": {},
   "source": [
    "#### Question 4 (7 points):  \n",
    "Please use features `X_train_mu` and multi-class labels `y_train_mu` to train a k-nearest neighbors multi-class classification model in function `answer_four( )`. After the model is trained, use `X_test_mu` and `y_test_mu` to evaluate the performance, including accuracy, micro F1 score, macro F1 score, loading time, and prediction time.\n",
    "\n",
    "**Set `n_neighbors=5` in `KNeighborsClassifier` and set the option `algorithm=` using `'brute'`, `'kd_tree'`, and `ball_tree` respectively to compare the different time used**  "
   ]
  },
  {
   "cell_type": "code",
   "execution_count": null,
   "id": "19561043",
   "metadata": {},
   "outputs": [],
   "source": [
    "import time\n",
    "\n",
    "def answer_four():\n",
    "    #Add a time checkpoint here\n",
    "    time1 = time.time()\n",
    "    \n",
    "    #Train a multi_knn\n",
    "\n",
    "    \n",
    "    #Add a time checkpoint here\n",
    "    time2 = time.time()\n",
    "    \n",
    "    #Use multi_knn to make prediction y_pred_mu\n",
    "    \n",
    "    \n",
    "    #Add a time checkpoint here\n",
    "    time3 = time.time()\n",
    "    \n",
    "    #Accuracy\n",
    "    multi_knn_accuracy = \n",
    "    \n",
    "    #Micro F1 score\n",
    "    multi_knn_microf1 = \n",
    "    \n",
    "    #Macro F1 score\n",
    "    multi_knn_macrof1 = \n",
    "    \n",
    "    #time used for data loading\n",
    "    multi_knn_loadtime = time2 - time1\n",
    "    \n",
    "    #time used for prediction\n",
    "    multi_knn_predictiontime = time3 - time2\n",
    "    \n",
    "    return multi_knn_accuracy, multi_knn_microf1, multi_knn_macrof1, multi_knn_loadtime, multi_knn_predictiontime\n",
    "\n",
    "#Run your function in the cell to return the results\n",
    "accuracy_4, microf1_4, macrof1_4, loadtime, predictiontime = answer_four()"
   ]
  },
  {
   "cell_type": "markdown",
   "id": "859f25dc",
   "metadata": {},
   "source": [
    "#### Answer 4:  \n",
    "<b>Brute force: </b> data loading time is: ( ), prediction time is: ( ), accuracy is: ( ), micro f1 score is: ( ), macro f1 score is: ( ) <br>\n",
    "<b>K-d tree: </b> data loading time is: ( ), prediction time is: ( ), accuracy is: ( ), micro f1 score is: ( ), macro f1 score is: ( ) <br>\n",
    "<b>Ball tree: </b> data loading time is: ( ), prediction time is: ( ), accuracy is: ( ), micro f1 score is: ( ), macro f1 score is: ( ) <br>\n",
    "Summarize your observations about the time used by these searching algorithms: ( ) and observations about the classification performance: ( )"
   ]
  },
  {
   "cell_type": "markdown",
   "id": "0c978095",
   "metadata": {},
   "source": [
    "#### Question 5 (7 points):  \n",
    "Please use features `X_train_bi` and binary labels `y_train_bi` to train a support vector machine binary classification model in function `answer_five( )`. After the model is trained, use `X_test_bi` and `y_test_bi` to evaluate the performance, including accuracy and F1 score.\n",
    "\n",
    "**Set `random_state=42` in `SVC`, and set the kernel function `kernel=` using `'linear'`, `'rbf'`, and `'poly'` respectively to compare different performance** "
   ]
  },
  {
   "cell_type": "code",
   "execution_count": null,
   "id": "bf2bf240",
   "metadata": {},
   "outputs": [],
   "source": [
    "from sklearn.svm import SVC\n",
    "\n",
    "def answer_five():\n",
    "    #Train a binary_svm\n",
    "    \n",
    "\n",
    "    #Use binary_svm to make prediction y_pred_bi\n",
    "\n",
    "    \n",
    "    #Accuracy\n",
    "    binary_svm_accuracy = \n",
    "    \n",
    "    #F1 score\n",
    "    binary_svm_f1 = \n",
    "    \n",
    "    return binary_svm_accuracy, binary_svm_f1\n",
    "\n",
    "#Run your function in the cell to return the results\n",
    "accuracy_5, f1_5 = answer_five()"
   ]
  },
  {
   "cell_type": "markdown",
   "id": "8b2c2a70",
   "metadata": {},
   "source": [
    "#### Answer 5:  \n",
    "<b>Linear kernel: </b> accuracy is: ( ), and f1 score is: ( ) <br> \n",
    "<b>RBF kernel: </b> accuracy is: ( ), and f1 score is: ( ) <br> \n",
    "<b>Polynomial kernel: </b> accuracy is: ( ), and f1 score is: ( ) <br>\n",
    "Summarize your observations about the performance derived by these different kernels: ( )  "
   ]
  },
  {
   "cell_type": "markdown",
   "id": "a74087a8",
   "metadata": {},
   "source": [
    "#### Question 6 (6 points):\n",
    "Please use features `X_train_mu` and multi-class labels `y_train_mu` to train a support vector machine multi-class classification model in function `answer_six( )`. After the model is trained, use `X_test_mu` and `y_test_mu` to evaluate the performance, including accuracy, micro F1 score, and macro F1 score.\n",
    "\n",
    "**Set `kernel='rbf'`, `random_state=42` in `SVC`, and set `decision_function_shape=` using `'ovr'` and `'ovo'` respectively to compare different performance and time cost**  "
   ]
  },
  {
   "cell_type": "code",
   "execution_count": null,
   "id": "d38e6ec1",
   "metadata": {},
   "outputs": [],
   "source": [
    "def answer_six():\n",
    "    #Add a time checkpoint here\n",
    "    time1 = time.time()\n",
    "    \n",
    "    #Train a multi_svm\n",
    "    \n",
    "\n",
    "    #Use multi_svm to make prediction y_pred_mu\n",
    "\n",
    "    \n",
    "    #Add a time checkpoint here\n",
    "    time2 = time.time()\n",
    "    \n",
    "    #Accuracy\n",
    "    multi_svm_accuracy = \n",
    "    \n",
    "    #Micro F1 score\n",
    "    multi_svm_microf1 = \n",
    "    \n",
    "    #Macro F1 score\n",
    "    multi_svm_macrof1 =\n",
    "    \n",
    "    #time used\n",
    "    multi_svm_time = time2 - time1\n",
    "    \n",
    "    return multi_svm_accuracy, multi_svm_microf1, multi_svm_macrof1, multi_svm_time\n",
    "\n",
    "#Run your function in the cell to return the results\n",
    "accuracy_6, microf1_6, macrof1_6, used_time = answer_six()"
   ]
  },
  {
   "cell_type": "markdown",
   "id": "86b673a0",
   "metadata": {},
   "source": [
    "#### Answer 6:  \n",
    "<b>One-vs-one (ovo): </b> time used is: ( ), accuracy is: ( ), micro f1 score is: ( ), macro f1 score is: ( ) <br>\n",
    "<b>One-vs-rest (ovr): </b> time used is: ( ), accuracy is: ( ), micro f1 score is: ( ), macro f1 score is: ( ) <br>\n",
    "Summarize your observations about the time used by these multi-class methods: ( ) and observations about the classification performance: ( )"
   ]
  },
  {
   "cell_type": "markdown",
   "id": "4d01ff7e",
   "metadata": {},
   "source": [
    "#### Question 7 (3 points):\n",
    "<font color='red'><b>Double click here to answer the questions in this cell: </b></font><br>\n",
    "Based on the results from Question 1 to Question 6: <br>\n",
    "The model with best binary classification performance is: ( ) <br>\n",
    "The model with worst binary classification performance is: ( ) <br>\n",
    "The model with best multi-class classification performance is: ( ) <br>\n",
    "The model with worst multi-class classification performance is: ( ) <br>\n",
    "Summarize your personal thoughts on the model choices: ( ) "
   ]
  },
  {
   "cell_type": "markdown",
   "id": "a38c006d",
   "metadata": {},
   "source": [
    "#### Question 8 (6 points):\n",
    "Please use `X_train_mu, X_test_mu, y_train_mu, y_test_mu = train_test_split(X, y_multi, test_size=0.40)` to perform data splits for 5 different times, and each time, use `X_train_mu` and `y_train_mu` to train a decision tree in function `answer_eight( )`. After the model is trained, use `X_test_mu` and `y_test_mu` to evaluate the performance, including accuracy, micro F1 score, and macro F1 score.\n",
    "\n",
    "**Set `max_depth=4`, `random_state=42` and `criterion='gini'` in `DecisionTreeClassifier`**"
   ]
  },
  {
   "cell_type": "code",
   "execution_count": null,
   "id": "944d3b7d",
   "metadata": {},
   "outputs": [],
   "source": [
    "from sklearn.tree import DecisionTreeClassifier\n",
    "\n",
    "X_train_mu, X_test_mu, y_train_mu, y_test_mu = train_test_split(X, y_multi, test_size=0.40)\n",
    "\n",
    "def answer_eight():\n",
    "    multi_dt = \n",
    "  \n",
    "    y_pred_mu = \n",
    "    \n",
    "    #Accuracy\n",
    "    multi_dt_accuracy = \n",
    "    \n",
    "    #Micro F1 score\n",
    "    multi_dt_microf1 = \n",
    "    \n",
    "    #Macro F1 score\n",
    "    multi_dt_macrof1 = \n",
    "    \n",
    "    return multi_dt_accuracy, multi_dt_microf1, multi_dt_macrof1\n",
    "\n",
    "#Run your function in the cell to return the results\n",
    "accuracy_8, microf1_8, macrof1_8 = answer_eight()"
   ]
  },
  {
   "cell_type": "markdown",
   "id": "0a1fb4e6",
   "metadata": {},
   "source": [
    "#### Answer 8:  \n",
    "First run: <br>\n",
    "Accuracy is: ( ), Micro f1 score is: ( ), Macro f1 score is: ( ) <br><br>\n",
    "Second run: <br>\n",
    "Accuracy is: ( ), Micro f1 score is: ( ), Macro f1 score is: ( ) <br><br>\n",
    "Third run: <br>\n",
    "Accuracy is: ( ), Micro f1 score is: ( ), Macro f1 score is: ( ) <br><br>\n",
    "Fourth run: <br>\n",
    "Accuracy is: ( ), Micro f1 score is: ( ), Macro f1 score is: ( ) <br><br>\n",
    "Fifth run: <br>\n",
    "Accuracy is: ( ), Micro f1 score is: ( ), Macro f1 score is: ( ) <br><br>\n",
    "Summarize your observations why these results vary and the disadvantages of hold-out evaluation: ( )"
   ]
  },
  {
   "cell_type": "markdown",
   "id": "9d13dabd",
   "metadata": {},
   "source": [
    "#### Question 9 (7 points):\n",
    "Please use `X` and `y_multi` to implement k-fold cross validation in function `answer_nine( )` to evaluate decision tree multi-class classification model, including the mean of accuracy, micro F1 score, and macro F1 score.\n",
    "\n",
    "**Set `max_depth=4`, `random_state=42` and `criterion='gini'` in `DecisionTreeClassifier`**\n",
    "\n",
    "**Set `cv=5` and `scoring=(\"accuracy\", \"f1_micro\", \"f1_macro\")` in `cross_validate` to return the cross-validation evaluation results**"
   ]
  },
  {
   "cell_type": "code",
   "execution_count": null,
   "id": "a7ac5e57",
   "metadata": {},
   "outputs": [],
   "source": [
    "from sklearn.model_selection import cross_validate\n",
    "from statistics import mean\n",
    "\n",
    "def answer_nine():\n",
    "    multi_dt = \n",
    "    \n",
    "    #Cross validation evaluation\n",
    "    cv_results = \n",
    "    \n",
    "    #Accuracy: use mean()\n",
    "    multi_dt_accuracy = \n",
    "    \n",
    "    #Micro F1 score: use mean()\n",
    "    multi_dt_microf1 = \n",
    "    \n",
    "    #Macro F1 score: use mean()\n",
    "    multi_dt_macrof1 = \n",
    "    \n",
    "    return multi_dt_accuracy, multi_dt_microf1, multi_dt_macrof1\n",
    "\n",
    "#Run your function in the cell to return the results\n",
    "accuracy_9, microf1_9, macrof1_9 = answer_nine()"
   ]
  },
  {
   "cell_type": "markdown",
   "id": "65439330",
   "metadata": {},
   "source": [
    "#### Answer 9:  \n",
    "Accuracy using 5-fold cross validation is: ( ) <br>\n",
    "Micro f1 score using 5-fold cross validation is: ( ) <br>\n",
    "Macro f1 score using 5-fold cross validation is: ( ) <br>\n",
    "Compared to the classificaion results in Question 8, what is your observation: ( ), and why that happens: ( ) <br>\n",
    "Summarize the advantages and disadvantages of cross validation: ( )"
   ]
  }
 ],
 "metadata": {
  "kernelspec": {
   "display_name": "Python 3 (ipykernel)",
   "language": "python",
   "name": "python3"
  },
  "language_info": {
   "codemirror_mode": {
    "name": "ipython",
    "version": 3
   },
   "file_extension": ".py",
   "mimetype": "text/x-python",
   "name": "python",
   "nbconvert_exporter": "python",
   "pygments_lexer": "ipython3",
   "version": "3.10.4"
  }
 },
 "nbformat": 4,
 "nbformat_minor": 5
}
